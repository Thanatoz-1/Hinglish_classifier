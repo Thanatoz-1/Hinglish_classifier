{
 "cells": [
  {
   "cell_type": "markdown",
   "metadata": {},
   "source": [
    "<center> <h1> Hinglish Classifier </h1> </center>"
   ]
  },
  {
   "cell_type": "code",
   "execution_count": 1,
   "metadata": {},
   "outputs": [
    {
     "name": "stderr",
     "output_type": "stream",
     "text": [
      "Using TensorFlow backend.\n"
     ]
    }
   ],
   "source": [
    "import re\n",
    "import os\n",
    "import keras \n",
    "import gensim\n",
    "import pandas as pd\n",
    "import numpy as np\n",
    "from matplotlib import pyplot as plt\n",
    "from pprint import pprint\n",
    "%matplotlib inline"
   ]
  },
  {
   "cell_type": "code",
   "execution_count": 2,
   "metadata": {},
   "outputs": [
    {
     "name": "stdout",
     "output_type": "stream",
     "text": [
      "78244\n"
     ]
    }
   ],
   "source": [
    "data=[]\n",
    "labels=[]\n",
    "total_data=[]\n",
    "\n",
    "# Reading the english doc file\n",
    "with open('./data/english.txt') as f:\n",
    "    data = f.readlines()\n",
    "    labele=np.zeros(len(data), dtype='int8')\n",
    "\n",
    "    # Reading the hinglish doc file\n",
    "with open('./data/hinglish.txt') as f:\n",
    "    data2 = f.readlines()\n",
    "    data+=data2\n",
    "    labelh=np.ones(len(data2), dtype='int8')\n",
    "\n",
    "labels=np.concatenate((labele, labelh), axis=0)\n",
    "    \n",
    "# Cleaning out the newline character from the data\n",
    "for i, word in enumerate(data):\n",
    "    total_data.append((re.sub(\"[^a-zA-Z]\",\"\",word).lower(),labels[i]))\n",
    "print(len(total_data))"
   ]
  },
  {
   "cell_type": "code",
   "execution_count": 3,
   "metadata": {},
   "outputs": [
    {
     "name": "stdout",
     "output_type": "stream",
     "text": [
      "('kataphoric', 0)\n",
      "('saltmouth', 0)\n",
      "('unhospitalized', 0)\n",
      "('gattine', 0)\n",
      "('prasiddhi', 1)\n"
     ]
    }
   ],
   "source": [
    "for i in range(5):\n",
    "    pprint(total_data[np.random.randint(len(data))])"
   ]
  },
  {
   "cell_type": "code",
   "execution_count": 4,
   "metadata": {
    "scrolled": false
   },
   "outputs": [
    {
     "name": "stdout",
     "output_type": "stream",
     "text": [
      "[('edinabarga', 1),\n",
      " ('ghatit', 1),\n",
      " ('nucleclei', 0),\n",
      " ('whitworth', 0),\n",
      " ('pidhidarpidhi', 1),\n",
      " ('imposed', 0),\n",
      " ('rikishas', 0),\n",
      " ('pulon', 1),\n",
      " ('salubrious', 0),\n",
      " ('ajit', 1)]\n"
     ]
    }
   ],
   "source": [
    "np.random.shuffle(total_data)\n",
    "test = list(total_data[:500])\n",
    "data = list(total_data[500:])\n",
    "pprint(test[:10])"
   ]
  },
  {
   "cell_type": "code",
   "execution_count": 51,
   "metadata": {},
   "outputs": [],
   "source": [
    "train_x = [a[0] for a in data]\n",
    "train_y = [a[1] for a in data]\n",
    "test_x = [a[0] for a in test]\n",
    "test_y = [a[1] for a in test]"
   ]
  },
  {
   "cell_type": "code",
   "execution_count": 52,
   "metadata": {},
   "outputs": [
    {
     "name": "stdout",
     "output_type": "stream",
     "text": [
      "The character set is: \n",
      " ['a', 'b', 'c', 'd', 'e', 'f', 'g', 'h', 'i', 'j', 'k', 'l', 'm', 'n', 'o', 'p', 'q', 'r', 's', 't', 'u', 'v', 'w', 'x', 'y', 'z']\n",
      "Maximum length word:  trinitrophenylmethylnitramine\n",
      "Number of characters in longest word  29\n",
      "Words in the total dataset are 78244 and in train_x are 77744\n"
     ]
    }
   ],
   "source": [
    "char_set = sorted(set(''.join(train_x)))\n",
    "print(\"The character set is: \\n\",char_set)\n",
    "longest = max(sorted(test_x, key=len)[-1],sorted(train_x, key=len)[-1])\n",
    "print(\"Maximum length word: \",longest)\n",
    "maxlen = len(longest)\n",
    "print(\"Number of characters in longest word \",maxlen)\n",
    "word_count = len(train_x)\n",
    "print(\"Words in the total dataset are %s and in train_x are %s\"%(len(total_data), word_count))"
   ]
  },
  {
   "cell_type": "code",
   "execution_count": 53,
   "metadata": {},
   "outputs": [],
   "source": [
    "alpToDig=dict()\n",
    "digToAlp=dict()\n",
    "for i,j in enumerate(char_set):\n",
    "    alpToDig[j]=i+1\n",
    "    digToAlp[i+1]=j"
   ]
  },
  {
   "cell_type": "code",
   "execution_count": 54,
   "metadata": {},
   "outputs": [],
   "source": [
    "def process_text(word):\n",
    "    processed_frame_x=np.zeros((len(word),maxlen,len(char_set)),dtype='int8')\n",
    "    for sample_index,sample in enumerate(word):\n",
    "        for char_index, char in enumerate(sample.lower()):\n",
    "            processed_frame_x[sample_index, char_index-1, alpToDig[char]-1]=1\n",
    "    return processed_frame_x"
   ]
  },
  {
   "cell_type": "code",
   "execution_count": 55,
   "metadata": {},
   "outputs": [],
   "source": [
    "train_frame_y = np.array(train_y)\n",
    "test_frame_y = np.array(test_y)"
   ]
  },
  {
   "cell_type": "code",
   "execution_count": 56,
   "metadata": {},
   "outputs": [],
   "source": [
    "train_frame_x = process_text(train_x)\n",
    "test_frame_x = process_text(test_x)"
   ]
  },
  {
   "cell_type": "code",
   "execution_count": 57,
   "metadata": {},
   "outputs": [
    {
     "name": "stdout",
     "output_type": "stream",
     "text": [
      "_________________________________________________________________\n",
      "Layer (type)                 Output Shape              Param #   \n",
      "=================================================================\n",
      "lstm_3 (LSTM)                (None, 32)                7552      \n",
      "_________________________________________________________________\n",
      "dense_4 (Dense)              (None, 1)                 33        \n",
      "_________________________________________________________________\n",
      "activation_3 (Activation)    (None, 1)                 0         \n",
      "=================================================================\n",
      "Total params: 7,585\n",
      "Trainable params: 7,585\n",
      "Non-trainable params: 0\n",
      "_________________________________________________________________\n"
     ]
    }
   ],
   "source": [
    "model = keras.models.Sequential()\n",
    "\n",
    "model.add(keras.layers.LSTM(32, input_shape=(maxlen, len(char_set))))\n",
    "model.add(keras.layers.Dense(1))\n",
    "model.add(keras.layers.Activation('sigmoid'))\n",
    "model.summary()"
   ]
  },
  {
   "cell_type": "code",
   "execution_count": 59,
   "metadata": {},
   "outputs": [],
   "source": [
    "model.compile( optimizer='adam',loss='binary_crossentropy',metrics=['accuracy'])"
   ]
  },
  {
   "cell_type": "code",
   "execution_count": null,
   "metadata": {},
   "outputs": [
    {
     "name": "stdout",
     "output_type": "stream",
     "text": [
      "Train on 77744 samples, validate on 500 samples\n",
      "Epoch 1/10\n",
      "77744/77744 [==============================] - 53s 678us/step - loss: 0.3180 - acc: 0.8617 - val_loss: 0.2497 - val_acc: 0.9100\n",
      "Epoch 2/10\n",
      "77744/77744 [==============================] - 56s 718us/step - loss: 0.2712 - acc: 0.8880 - val_loss: 0.2231 - val_acc: 0.9160\n",
      "Epoch 3/10\n",
      "77744/77744 [==============================] - 65s 832us/step - loss: 0.2491 - acc: 0.8984 - val_loss: 0.2207 - val_acc: 0.9160\n",
      "Epoch 4/10\n",
      "77744/77744 [==============================] - 50s 637us/step - loss: 0.2337 - acc: 0.9062 - val_loss: 0.2070 - val_acc: 0.9240\n",
      "Epoch 5/10\n",
      "77744/77744 [==============================] - 51s 659us/step - loss: 0.2219 - acc: 0.9120 - val_loss: 0.2084 - val_acc: 0.9040\n",
      "Epoch 6/10\n",
      "77744/77744 [==============================] - 60s 771us/step - loss: 0.2149 - acc: 0.9151 - val_loss: 0.1902 - val_acc: 0.9300\n",
      "Epoch 7/10\n",
      "77744/77744 [==============================] - 57s 730us/step - loss: 0.2076 - acc: 0.9181 - val_loss: 0.1856 - val_acc: 0.9280\n",
      "Epoch 8/10\n",
      "77744/77744 [==============================] - 61s 789us/step - loss: 0.2032 - acc: 0.9212 - val_loss: 0.1766 - val_acc: 0.9360\n",
      "Epoch 9/10\n",
      "77744/77744 [==============================] - 53s 682us/step - loss: 0.1987 - acc: 0.9231 - val_loss: 0.1781 - val_acc: 0.9220\n",
      "Epoch 10/10\n",
      "43840/77744 [===============>..............] - ETA: 24s - loss: 0.1984 - acc: 0.9227"
     ]
    }
   ],
   "source": [
    "history = model.fit(train_frame_x, train_frame_y,\n",
    "                    batch_size=64,\n",
    "                     epochs=10,\n",
    "                    validation_data=(test_frame_x, test_frame_y),\n",
    "                       verbose=1)"
   ]
  },
  {
   "cell_type": "code",
   "execution_count": 33,
   "metadata": {},
   "outputs": [
    {
     "name": "stdout",
     "output_type": "stream",
     "text": [
      "500/500 [==============================] - 0s 754us/step\n"
     ]
    },
    {
     "data": {
      "text/plain": [
       "[0.17429655957221984, 0.9339999995231628]"
      ]
     },
     "execution_count": 33,
     "metadata": {},
     "output_type": "execute_result"
    }
   ],
   "source": [
    "model.evaluate(test_frame_x, test_frame_y)"
   ]
  },
  {
   "cell_type": "code",
   "execution_count": 35,
   "metadata": {},
   "outputs": [
    {
     "data": {
      "image/png": "[encoded data removed]",
      "text/plain": [
       "<Figure size 432x288 with 1 Axes>"
      ]
     },
     "metadata": {},
     "output_type": "display_data"
    }
   ],
   "source": [
    "import matplotlib.pyplot as plt\n",
    "%matplotlib inline\n",
    "\n",
    "hist_dict=history.history\n",
    "acc = hist_dict['acc']\n",
    "val_acc = hist_dict['val_acc']\n",
    "loss = hist_dict['loss']\n",
    "loss = hist_dict['val_loss']\n",
    "epochs = [i for i in range(len(acc))]\n",
    "\n",
    "plt.plot(epochs, acc, label='accuracy')\n",
    "plt.plot(epochs, val_acc, label='Validation Accu')\n",
    "plt.legend()\n",
    "plt.show()"
   ]
  },
  {
   "cell_type": "code",
   "execution_count": 36,
   "metadata": {},
   "outputs": [
    {
     "name": "stdout",
     "output_type": "stream",
     "text": [
      "Chalo is Hinglish\n",
      "coffee is English\n",
      "peete is Hinglish\n",
      "hai is Hinglish\n"
     ]
    }
   ],
   "source": [
    "words = ['Chalo','coffee','peete','hai']\n",
    "processed_words = process_text(words)\n",
    "pred = model.predict_classes(processed_words)\n",
    "for i,p in enumerate(pred):\n",
    "    if(pred[i]==0):\n",
    "        print('%s is English'%words[i])\n",
    "    else:\n",
    "        print('%s is Hinglish'%words[i])"
   ]
  },
  {
   "cell_type": "code",
   "execution_count": 37,
   "metadata": {},
   "outputs": [],
   "source": [
    "model.save('hinglish_classifier.h5')"
   ]
  },
  {
   "cell_type": "code",
   "execution_count": 38,
   "metadata": {},
   "outputs": [
    {
     "name": "stdout",
     "output_type": "stream",
     "text": [
      "/media/thanoz/Extended/projects/Hinglish_Clasiifier\r\n"
     ]
    }
   ],
   "source": [
    "!pwd"
   ]
  },
  {
   "cell_type": "code",
   "execution_count": 39,
   "metadata": {},
   "outputs": [],
   "source": [
    "from keras import preprocessing as pp"
   ]
  },
  {
   "cell_type": "code",
   "execution_count": 48,
   "metadata": {},
   "outputs": [
    {
     "data": {
      "text/plain": [
       "['hello', 'how', 'are', 'you']"
      ]
     },
     "execution_count": 48,
     "metadata": {},
     "output_type": "execute_result"
    }
   ],
   "source": [
    "words = gensim.summarization.textcleaner.tokenize_by_word('Hello how are you')\n",
    "words = [i for i in gensim.summarization.textcleaner.tokenize_by_word('Hello how are you')]\n",
    "words"
   ]
  },
  {
   "cell_type": "code",
   "execution_count": null,
   "metadata": {},
   "outputs": [],
   "source": []
  }
 ],
 "metadata": {
  "kernelspec": {
   "display_name": "Python (keras)",
   "language": "python",
   "name": "kerass"
  },
  "language_info": {
   "codemirror_mode": {
    "name": "ipython",
    "version": 3
   },
   "file_extension": ".py",
   "mimetype": "text/x-python",
   "name": "python",
   "nbconvert_exporter": "python",
   "pygments_lexer": "ipython3",
   "version": "3.5.5"
  }
 },
 "nbformat": 4,
 "nbformat_minor": 2
}
